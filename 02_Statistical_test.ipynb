{
 "cells": [
  {
   "cell_type": "code",
   "execution_count": 31,
   "metadata": {},
   "outputs": [],
   "source": [
    "import os\n",
    "import pickle\n",
    "import numpy as np\n",
    "from statsmodels.stats import multitest as multitest"
   ]
  },
  {
   "cell_type": "code",
   "execution_count": 75,
   "metadata": {},
   "outputs": [
    {
     "name": "stdout",
     "output_type": "stream",
     "text": [
      "shape_Sphericity 0.006063554846748878 75\n",
      "glrlm_RunEntropy_wv_1 0.00031996959176894 54\n",
      "glrlm_ShortRunHighGrayLevelEmphasis_wv_3 0.0007282892733235752 100\n",
      "gldm_LargeDependenceLowGrayLevelEmphasis_wv_4 0.005003206356656759 18\n",
      "glszm_LargeAreaHighGrayLevelEmphasis_wv_4 0.0008234961405440532 65\n",
      "glrlm_ShortRunLowGrayLevelEmphasis_wv_6 0.0007378679624104808 63\n",
      "glrlm_RunLengthNonUniformityNormalized_wv_7 0.00010745472698489574 5\n",
      "glszm_ZoneVariance_wv_1 0.0061016593408723665 7\n",
      "ngtdm_Busyness_wv_5 0.0016718263998722906 26\n",
      "glrlm_LongRunLowGrayLevelEmphasis_wv_6 0.0008047757646249563 56\n",
      "glszm_LargeAreaLowGrayLevelEmphasis_wv_3 0.005261268664930023 10\n",
      "gldm_LargeDependenceLowGrayLevelEmphasis_wv_5 0.0043156524029616256 9\n",
      "glrlm_ShortRunHighGrayLevelEmphasis_wv_7 0.007759288361083663 11\n",
      "gldm_DependenceNonUniformity 0.0041638859602816675 17\n",
      "gldm_DependenceNonUniformity_wv_8 6.273763490585472e-05 10\n",
      "gldm_LargeDependenceEmphasis_wv_5 0.0002155628245263394 4\n",
      "glszm_LargeAreaLowGrayLevelEmphasis_wv_6 3.501480039234775e-05 20\n",
      "gldm_LargeDependenceHighGrayLevelEmphasis_wv_3 0.00045606687737909487 3\n",
      "glrlm_ShortRunLowGrayLevelEmphasis_wv_7 0.0001927804306371202 2\n",
      "glrlm_LongRunEmphasis_wv_6 3.414231499902353e-10 5\n",
      "glrlm_LongRunHighGrayLevelEmphasis_wv_7 7.446472980480295e-09 11\n",
      "glszm_LargeAreaLowGrayLevelEmphasis_wv_5 1.6614444218132348e-09 2\n",
      "glszm_LargeAreaEmphasis_wv_4 1.3919865926486914e-09 3\n",
      "ngtdm_Strength_wv_3 1.2182776452785942e-08 1\n",
      "gldm_SmallDependenceLowGrayLevelEmphasis_wv_4 1.1344216495254955e-09 1\n",
      "gldm_DependenceNonUniformity_wv_1 1.9729978684185282e-05 8\n",
      "gldm_LargeDependenceLowGrayLevelEmphasis_wv_2 0.000630115727661909 4\n",
      "glrlm_RunVariance_wv_6 5.8443844287216855e-08 4\n",
      "glrlm_LongRunEmphasis_wv_7 1.0656897651740488e-11 1\n",
      "glrlm_ShortRunEmphasis_wv_4 4.15543221488801e-09 3\n",
      "glszm_LargeAreaHighGrayLevelEmphasis_wv_2 1.1383826564418628e-08 2\n",
      "gldm_SmallDependenceLowGrayLevelEmphasis_wv_3 1.043604457121477e-11 3\n",
      "glrlm_ShortRunLowGrayLevelEmphasis_wv_2 1.3585555359881639e-05 3\n",
      "glrlm_RunEntropy_wv_7 2.172335307035258e-08 1\n",
      "glrlm_RunVariance 4.169259051467973e-06 1\n",
      "glrlm_LongRunLowGrayLevelEmphasis_wv_5 1.861942034400413e-07 2\n",
      "glrlm_ShortRunLowGrayLevelEmphasis_wv_4 7.748031639549789e-08 3\n",
      "glrlm_ShortRunEmphasis_wv_7 2.2962876204175067e-08 5\n",
      "gldm_LargeDependenceHighGrayLevelEmphasis_wv_7 7.875549686007663e-09 9\n",
      "gldm_SmallDependenceHighGrayLevelEmphasis_wv_7 3.37419613720029e-12 1\n",
      "gldm_LargeDependenceEmphasis_wv_7 1.814822175086343e-10 3\n",
      "glszm_LargeAreaEmphasis_wv_5 9.797773968028763e-10 1\n",
      "glrlm_RunPercentage_wv_7 4.6975568092119145e-12 1\n",
      "glszm_LargeAreaLowGrayLevelEmphasis_wv_4 6.422700451423059e-08 5\n",
      "shape_Flatness 0.00010241354865740454 3\n",
      "glszm_GrayLevelNonUniformity_wv_6 0.00016297718177553773 1\n",
      "gldm_DependenceVariance_wv_8 0.0007257438827891614 1\n",
      "glrlm_RunVariance_wv_7 3.5931796415792687e-10 1\n",
      "glszm_SizeZoneNonUniformityNormalized_wv_5 0.00101701945315806 1\n",
      "glszm_LargeAreaLowGrayLevelEmphasis_wv_7 4.052860715807167e-06 1\n",
      "gldm_GrayLevelNonUniformity 1.5015637246654938e-07 1\n",
      "firstorder_Kurtosis_wv_5 4.355287289724821e-05 1\n",
      "glrlm_GrayLevelNonUniformityNormalized_wv_3 1.7048802933188242e-07 1\n",
      "glcm_Imc1_wv_8 0.0005856714674795769 1\n",
      "glszm_SmallAreaEmphasis_wv_1 0.00034535605885569176 1\n"
     ]
    }
   ],
   "source": [
    "with open('../result/feature_pvalue.pickle', 'rb') as file:\n",
    "    feature_pvalue = pickle.load(file)\n",
    "    \n",
    "new_pvalues = dict()\n",
    "statistical_meaningful_feature = []\n",
    "\n",
    "mean_times = sorted(np.array([len(x) for x in feature_pvalue.values()]))\n",
    "# print(np.mean(mean_times))\n",
    "    \n",
    "for key, pvals in feature_pvalue.items():\n",
    "    \n",
    "#     if len(pvals) < np.mean(mean_times):\n",
    "#     print(key, len(pvals))\n",
    "#     if len(pvals) < 50:\n",
    "#         continue\n",
    "\n",
    "    result = multitest.multipletests(pvals, alpha=0.05, method='holm', is_sorted=False, returnsorted=False)\n",
    "    \n",
    "    if np.mean(result[1]) < 0.01:\n",
    "        print(key, np.mean(result[1]), len(pvals))\n",
    "        statistical_meaningful_feature.append(key)\n",
    "    \n",
    "#     break\n",
    "\n",
    "# Wilcoxon signed rank test 결과\n",
    "# Holm Bonferroni correction 을 거쳐서 p value 가 0.01 이하 인 feature 들을 걸러내었다\n",
    "\n",
    "# 기존 연구와 다른 점은 \n",
    "# 먼저 higher order feature 를 추출하여 classification 결과를 더 월등하게 얻을 수 있었다.\n",
    "# 추가로 test set 을 별도로 구성하여 train 에 참여하지 않은 dataset 에서도 기존 연구 대비 더 좋은 성능을 보였다.\n",
    "# 또한 glrlm_ShortRunHighGrayLevelEmphasis_wv_3 라는 feature 는 multiple test 에서 모두 의미있는 feature 로 나왔으며\n",
    "# 이는 heatmap 을 통해 확인해볼 수 있다.\n",
    "\n",
    "# 단점은 ensemble 모델을 사용하였다는 점이다"
   ]
  },
  {
   "cell_type": "code",
   "execution_count": 69,
   "metadata": {},
   "outputs": [],
   "source": [
    "np.save('../result/imp_features.npy', statistical_meaningful_feature)"
   ]
  },
  {
   "cell_type": "code",
   "execution_count": 52,
   "metadata": {},
   "outputs": [],
   "source": [
    "with open('../result/feature_pvalue_ad_mci.pickle', 'rb') as file:\n",
    "    feature_pvalue_ad_mci = pickle.load(file)\n",
    "\n",
    "with open('../result/feature_pvalue.pickle', 'rb') as file:\n",
    "    feature_pvalue_ad_cn = pickle.load(file)"
   ]
  },
  {
   "cell_type": "code",
   "execution_count": 71,
   "metadata": {},
   "outputs": [],
   "source": [
    "common_features_set1_set2 = np.array([x for x in statistical_meaningful_feature_ad_cn if x in statistical_meaningful_feature_ad_mci])"
   ]
  },
  {
   "cell_type": "code",
   "execution_count": 74,
   "metadata": {},
   "outputs": [
    {
     "data": {
      "text/plain": [
       "['shape_Sphericity',\n",
       " 'glrlm_RunEntropy_wv_1',\n",
       " 'glrlm_ShortRunHighGrayLevelEmphasis_wv_3',\n",
       " 'glszm_LargeAreaHighGrayLevelEmphasis_wv_4',\n",
       " 'glrlm_ShortRunLowGrayLevelEmphasis_wv_6',\n",
       " 'glrlm_LongRunLowGrayLevelEmphasis_wv_6']"
      ]
     },
     "execution_count": 74,
     "metadata": {},
     "output_type": "execute_result"
    }
   ],
   "source": [
    "statistical_meaningful_feature_ad_cn"
   ]
  },
  {
   "cell_type": "code",
   "execution_count": 73,
   "metadata": {},
   "outputs": [
    {
     "data": {
      "text/plain": [
       "['shape_Sphericity',\n",
       " 'glszm_ZoneVariance',\n",
       " 'firstorder_Kurtosis_wv_1',\n",
       " 'glrlm_RunEntropy_wv_1',\n",
       " 'ngtdm_Busyness_wv_1',\n",
       " 'ngtdm_Strength_wv_1',\n",
       " 'glrlm_ShortRunHighGrayLevelEmphasis_wv_3',\n",
       " 'glszm_HighGrayLevelZoneEmphasis_wv_3',\n",
       " 'glcm_SumSquares_wv_4',\n",
       " 'glrlm_GrayLevelNonUniformityNormalized_wv_5',\n",
       " 'glszm_ZoneEntropy_wv_6',\n",
       " 'glszm_SizeZoneNonUniformityNormalized_wv_8',\n",
       " 'glszm_SmallAreaHighGrayLevelEmphasis_wv_1',\n",
       " 'glszm_SmallAreaEmphasis_wv_2',\n",
       " 'firstorder_Skewness_wv_4',\n",
       " 'glcm_MCC_wv_1',\n",
       " 'glszm_ZoneVariance_wv_1',\n",
       " 'glszm_ZoneEntropy_wv_8',\n",
       " 'shape_Maximum2DDiameterRow',\n",
       " 'glszm_SizeZoneNonUniformity_wv_1',\n",
       " 'firstorder_Kurtosis_wv_6',\n",
       " 'gldm_LargeDependenceHighGrayLevelEmphasis_wv_3',\n",
       " 'glrlm_ShortRunLowGrayLevelEmphasis_wv_7',\n",
       " 'glrlm_LongRunEmphasis_wv_6',\n",
       " 'ngtdm_Coarseness_wv_1',\n",
       " 'glrlm_RunVariance_wv_6',\n",
       " 'glrlm_RunEntropy_wv_7',\n",
       " 'glrlm_ShortRunLowGrayLevelEmphasis_wv_4',\n",
       " 'glrlm_ShortRunEmphasis_wv_7',\n",
       " 'gldm_SmallDependenceHighGrayLevelEmphasis_wv_7',\n",
       " 'glrlm_RunPercentage_wv_7',\n",
       " 'glszm_GrayLevelNonUniformityNormalized_wv_8',\n",
       " 'glszm_GrayLevelNonUniformity_wv_6',\n",
       " 'glszm_LargeAreaLowGrayLevelEmphasis_wv_7',\n",
       " 'firstorder_Kurtosis_wv_5',\n",
       " 'glrlm_GrayLevelNonUniformityNormalized_wv_3']"
      ]
     },
     "execution_count": 73,
     "metadata": {},
     "output_type": "execute_result"
    }
   ],
   "source": [
    "[x for (x,y) in feature_pvalue_ad_cn.items() if x in feature_pvalue_ad_mci.keys()]"
   ]
  },
  {
   "cell_type": "code",
   "execution_count": null,
   "metadata": {},
   "outputs": [],
   "source": []
  }
 ],
 "metadata": {
  "kernelspec": {
   "display_name": "Python 3",
   "language": "python",
   "name": "python3"
  },
  "language_info": {
   "codemirror_mode": {
    "name": "ipython",
    "version": 3
   },
   "file_extension": ".py",
   "mimetype": "text/x-python",
   "name": "python",
   "nbconvert_exporter": "python",
   "pygments_lexer": "ipython3",
   "version": "3.7.1"
  }
 },
 "nbformat": 4,
 "nbformat_minor": 2
}
